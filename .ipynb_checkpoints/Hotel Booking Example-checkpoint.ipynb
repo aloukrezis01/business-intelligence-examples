{
 "cells": [
  {
   "cell_type": "markdown",
   "id": "3bcd6d45-618d-4373-8b8b-a5bd5ee7b456",
   "metadata": {},
   "source": [
    "# Hotel Booking Example\n",
    "\n",
    "### Objective\n",
    "\n",
    "#### Background\n",
    "#### Business Understanding\n",
    "\n",
    "#### Data Understanding\n",
    "Data Sources: Datacamp\n",
    "\n",
    "#### Data Preperation\n",
    "#### Data Preperation/System Design\n",
    "\n",
    "Exploratory Data Analysis (EDA)"
   ]
  },
  {
   "cell_type": "code",
   "execution_count": 1,
   "id": "54b82408-c33a-4314-90ad-c6a19542d249",
   "metadata": {},
   "outputs": [],
   "source": [
    "import pandas as pd\n",
    "import numpy as np\n",
    "import matplotlib.pyplot as plt\n",
    "import seaborn as sns\n",
    "\n",
    "import datetime\n",
    "from datetime import datetime\n",
    "from datetime import timedelta\n",
    "from dateutil import rrule\n",
    "import time"
   ]
  },
  {
   "cell_type": "code",
   "execution_count": null,
   "id": "e3187516-d212-416e-8221-4aedc124881d",
   "metadata": {},
   "outputs": [],
   "source": []
  },
  {
   "cell_type": "code",
   "execution_count": null,
   "id": "745bea1d-1cfd-492f-97cd-84cc89a267c1",
   "metadata": {},
   "outputs": [],
   "source": []
  },
  {
   "cell_type": "code",
   "execution_count": null,
   "id": "92461d48-3523-4ae6-ad18-d0edb136597d",
   "metadata": {},
   "outputs": [],
   "source": []
  },
  {
   "cell_type": "code",
   "execution_count": null,
   "id": "ae2481eb-1711-4eff-b195-c03c15d3320f",
   "metadata": {},
   "outputs": [],
   "source": []
  },
  {
   "cell_type": "code",
   "execution_count": null,
   "id": "1c07d109-7860-4748-ae97-4df6503f5a1d",
   "metadata": {},
   "outputs": [],
   "source": []
  },
  {
   "cell_type": "code",
   "execution_count": null,
   "id": "2afac4c2-1556-455f-956c-b8e915062221",
   "metadata": {},
   "outputs": [],
   "source": []
  },
  {
   "cell_type": "code",
   "execution_count": null,
   "id": "cdde2214-b913-40a2-bf23-c4bed2e52535",
   "metadata": {},
   "outputs": [],
   "source": []
  },
  {
   "cell_type": "code",
   "execution_count": null,
   "id": "e22cd614-3bfb-4468-a7ac-379711519aa0",
   "metadata": {},
   "outputs": [],
   "source": []
  },
  {
   "cell_type": "code",
   "execution_count": null,
   "id": "849f0e80-e35b-4f45-b856-7d6b9b37488e",
   "metadata": {},
   "outputs": [],
   "source": []
  },
  {
   "cell_type": "code",
   "execution_count": null,
   "id": "3b2b5347-a396-4599-a406-36fad18790e3",
   "metadata": {},
   "outputs": [],
   "source": []
  },
  {
   "cell_type": "code",
   "execution_count": null,
   "id": "960df6d4-9717-4ae5-8c90-d35b71bb9732",
   "metadata": {},
   "outputs": [],
   "source": []
  }
 ],
 "metadata": {
  "kernelspec": {
   "display_name": "Python 3 (ipykernel)",
   "language": "python",
   "name": "python3"
  },
  "language_info": {
   "codemirror_mode": {
    "name": "ipython",
    "version": 3
   },
   "file_extension": ".py",
   "mimetype": "text/x-python",
   "name": "python",
   "nbconvert_exporter": "python",
   "pygments_lexer": "ipython3",
   "version": "3.8.18"
  }
 },
 "nbformat": 4,
 "nbformat_minor": 5
}
